{
  "nbformat": 4,
  "nbformat_minor": 0,
  "metadata": {
    "colab": {
      "name": "BWO_Rooy_Testing.ipynb",
      "provenance": [],
      "collapsed_sections": [],
      "include_colab_link": true
    },
    "kernelspec": {
      "name": "python3",
      "display_name": "Python 3"
    },
    "language_info": {
      "name": "python"
    }
  },
  "cells": [
    {
      "cell_type": "markdown",
      "metadata": {
        "id": "view-in-github",
        "colab_type": "text"
      },
      "source": [
        "<a href=\"https://colab.research.google.com/github/Catdmio/BWO_iterations/blob/main/BWO_Rooy_Testing.ipynb\" target=\"_parent\"><img src=\"https://colab.research.google.com/assets/colab-badge.svg\" alt=\"Open In Colab\"/></a>"
      ]
    },
    {
      "cell_type": "markdown",
      "metadata": {
        "id": "H-9Fb0Y4Eg7E"
      },
      "source": [
        "# **BWO Testing**"
      ]
    },
    {
      "cell_type": "markdown",
      "metadata": {
        "id": "PrMbqDwGIn8r"
      },
      "source": [
        "**Instalando BWO de Nathan Rooy:**"
      ]
    },
    {
      "cell_type": "code",
      "metadata": {
        "colab": {
          "base_uri": "https://localhost:8080/"
        },
        "id": "Tc7J0GKAInoo",
        "outputId": "12d7ab3e-9eb3-43cd-ecd9-915ae8da3639"
      },
      "source": [
        "!pip install bwo\n",
        "!pip install landscapes"
      ],
      "execution_count": 2,
      "outputs": [
        {
          "output_type": "stream",
          "text": [
            "Collecting bwo\n",
            "  Downloading bwo-0.1.2-py3-none-any.whl (6.4 kB)\n",
            "Installing collected packages: bwo\n",
            "Successfully installed bwo-0.1.2\n",
            "Collecting landscapes\n",
            "  Downloading landscapes-0.0.12-py3-none-any.whl (15 kB)\n",
            "Installing collected packages: landscapes\n",
            "Successfully installed landscapes-0.0.12\n"
          ],
          "name": "stdout"
        }
      ]
    },
    {
      "cell_type": "markdown",
      "metadata": {
        "id": "4UUl_hOKEgrP"
      },
      "source": [
        "**IMPORTA LIBRERÍAS:**"
      ]
    },
    {
      "cell_type": "code",
      "metadata": {
        "id": "Scu78DjgDGxD"
      },
      "source": [
        "from bwo import minimize\n",
        "from landscapes.single_objective import sphere"
      ],
      "execution_count": 3,
      "outputs": []
    },
    {
      "cell_type": "markdown",
      "metadata": {
        "id": "CV7Ti4GZEdZk"
      },
      "source": [
        "**APLICA BWO (versión Rooy) SEGÚN CONFIGURACIÓN:**"
      ]
    },
    {
      "cell_type": "code",
      "metadata": {
        "id": "UFbx_uyMEd8a"
      },
      "source": [
        "def _BWO_Rooy(configuración):\n",
        "  fbest, xbest = minimize(configuración['Función'],\n",
        "                          pp = 0.6,\n",
        "                          cr = 0.44, \n",
        "                          pm = 0.4,\n",
        "                          #dof=Configuración['Nvar'],\n",
        "                          npop= configuración['Npop'],\n",
        "                          maxiter = configuración['Maxiter'],\n",
        "                          bounds = [configuración['Bounds'] for i in range(configuración['Nvar'])],\n",
        "                          disp = False)\n",
        "  return fbest"
      ],
      "execution_count": 4,
      "outputs": []
    },
    {
      "cell_type": "markdown",
      "metadata": {
        "id": "oPUUs5MuEfQ_"
      },
      "source": [
        "**ITERADOR DE REPETICIONES:**"
      ]
    },
    {
      "cell_type": "code",
      "metadata": {
        "id": "zVtRTl-4Efsn"
      },
      "source": [
        "def _repeticiones(número_repeticiones,configuración):\n",
        "    mejores = []\n",
        "    for i in range(número_repeticiones):\n",
        "        fbest = _BWO_Rooy(configuración)\n",
        "        print(f\"\\tRepetición {i+1} \\t=\",\"{:.2e}\".format(fbest))\n",
        "        mejores.append(fbest)\n",
        "    return mejores"
      ],
      "execution_count": 5,
      "outputs": []
    },
    {
      "cell_type": "markdown",
      "metadata": {
        "id": "OqoNoBALEeVt"
      },
      "source": [
        "**REPORTE ESTADÍSTICO FINAL:**"
      ]
    },
    {
      "cell_type": "code",
      "metadata": {
        "id": "JnJ5kGaNEe73"
      },
      "source": [
        "import statistics\n",
        "\n",
        "def _estadísticas(configuración,mejores):\n",
        "    Repeticiones = len(mejores)\n",
        "    Best = min(mejores)\n",
        "    Mean = statistics.mean(mejores)\n",
        "    Median = statistics.median(mejores)\n",
        "    Worst = max(mejores)\n",
        "    Dev = statistics.stdev(mejores)\n",
        "    print(f\"CONFIGURACIÓN: {configuración}\") # PENDIENTE CONFIGURACIÓN\n",
        "    print(f\"\\tRESULTADO DE {Repeticiones} REPETICIONES\")\n",
        "    print(\"\\t\\tBest: \\t{:.2e}\".format(Best), f\"\\t({Best})\")\n",
        "    print(\"\\t\\tMean: \\t{:.2e}\".format(Mean), f\"\\t({Mean})\")\n",
        "    print(\"\\t\\tMedi: \\t{:.2e}\".format(Median), f\"\\t({Median})\")\n",
        "    print(\"\\t\\tWorst: \\t{:.2e}\".format(Worst), f\"\\t({Worst})\")\n",
        "    print(\"\\t\\tDevSt: \\t{:.2e}\".format(Dev), f\"\\t({Dev})\")\n",
        "    resultado = {'Repetitions':Repeticiones,\n",
        "                  'Best':Best,\n",
        "                  'Mean':Mean,\n",
        "                  'Median':Median,\n",
        "                  'Worst':Worst,\n",
        "                  'Dev':Dev}\n",
        "    return resultado"
      ],
      "execution_count": 6,
      "outputs": []
    },
    {
      "cell_type": "markdown",
      "metadata": {
        "id": "3wDar6MXFAtF"
      },
      "source": [
        "**CONFIGURACIONES:**"
      ]
    },
    {
      "cell_type": "code",
      "metadata": {
        "id": "0lkYL94OFAH4"
      },
      "source": [
        "F16_1 = {'Función':sphere,'Nvar':10,'Npop':100,'Maxiter':500,'Bounds':(-5.12,5.12)}\n",
        "F16_2 = {'Función':sphere,'Nvar':20,'Npop':150,'Maxiter':1000,'Bounds':(-5.12,5.12)} # Actualizado 6/08\n",
        "F16_3 = {'Función':sphere,'Nvar':50,'Npop':200,'Maxiter':1500,'Bounds':(-5.12,5.12)} # Actualizado 6/08\n",
        "F16_4 = {'Función':sphere,'Nvar':10,'Npop':200,'Maxiter':2000,'Bounds':(-5.12,5.12)} # Actualizado 6/08\n",
        "\n",
        "configuraciones = [F16_1,F16_2, F16_3,F16_4]"
      ],
      "execution_count": 7,
      "outputs": []
    },
    {
      "cell_type": "markdown",
      "metadata": {
        "id": "0W8ARmc6GZYx"
      },
      "source": [
        "**IMPLEMENTACIÓN:**"
      ]
    },
    {
      "cell_type": "code",
      "metadata": {
        "colab": {
          "base_uri": "https://localhost:8080/"
        },
        "id": "8BLkWK7IGbgG",
        "outputId": "3c7e1d26-4c4c-47f1-e98c-946094fd4df4"
      },
      "source": [
        "número_repeticiones = 30\n",
        "\n",
        "def _main_loop(número_repetciones,configuraciones):\n",
        "  resultados = []\n",
        "  for configuración in configuraciones:\n",
        "    print(f'CONFIGURACIÓN: {configuración}')\n",
        "    mejores = _repeticiones(número_repeticiones,configuración)\n",
        "    resultado = _estadísticas(configuración,mejores)\n",
        "    resultados.append(resultado)\n",
        "  return resultados\n",
        "\n",
        "resultados = _main_loop(número_repeticiones,configuraciones)"
      ],
      "execution_count": 8,
      "outputs": [
        {
          "output_type": "stream",
          "text": [
            "CONFIGURACIÓN: {'Función': <function sphere at 0x7f337293a710>, 'Nvar': 10, 'Npop': 100, 'Maxiter': 500, 'Bounds': (-5.12, 5.12)}\n",
            "\tRepetición 1 \t= 1.98e-01\n",
            "\tRepetición 2 \t= 5.30e-04\n",
            "\tRepetición 3 \t= 4.68e-01\n",
            "\tRepetición 4 \t= 3.33e-01\n",
            "\tRepetición 5 \t= 2.51e-02\n",
            "\tRepetición 6 \t= 6.88e-03\n",
            "\tRepetición 7 \t= 1.14e-01\n",
            "\tRepetición 8 \t= 3.87e-03\n",
            "\tRepetición 9 \t= 2.85e-02\n",
            "\tRepetición 10 \t= 5.70e-01\n",
            "\tRepetición 11 \t= 6.54e-02\n",
            "\tRepetición 12 \t= 1.63e-02\n",
            "\tRepetición 13 \t= 5.81e-02\n",
            "\tRepetición 14 \t= 2.49e-02\n",
            "\tRepetición 15 \t= 7.74e-02\n",
            "\tRepetición 16 \t= 3.10e-02\n",
            "\tRepetición 17 \t= 3.07e-01\n",
            "\tRepetición 18 \t= 1.74e-01\n",
            "\tRepetición 19 \t= 4.84e-02\n",
            "\tRepetición 20 \t= 9.75e-07\n",
            "\tRepetición 21 \t= 7.53e-01\n",
            "\tRepetición 22 \t= 3.63e-02\n",
            "\tRepetición 23 \t= 6.92e-02\n",
            "\tRepetición 24 \t= 2.23e-03\n",
            "\tRepetición 25 \t= 1.18e-01\n",
            "\tRepetición 26 \t= 2.15e-02\n",
            "\tRepetición 27 \t= 1.08e-02\n",
            "\tRepetición 28 \t= 1.82e-01\n",
            "\tRepetición 29 \t= 7.79e-04\n",
            "\tRepetición 30 \t= 9.28e-02\n",
            "CONFIGURACIÓN: {'Función': <function sphere at 0x7f337293a710>, 'Nvar': 10, 'Npop': 100, 'Maxiter': 500, 'Bounds': (-5.12, 5.12)}\n",
            "\tRESULTADO DE 30 REPETICIONES\n",
            "\t\tBest: \t9.75e-07 \t(9.745759983432562e-07)\n",
            "\t\tMean: \t1.28e-01 \t(0.1278752449521908)\n",
            "\t\tMedi: \t5.33e-02 \t(0.05327368971444753)\n",
            "\t\tWorst: \t7.53e-01 \t(0.7530887389024272)\n",
            "\t\tDevSt: \t1.85e-01 \t(0.18465819433773561)\n",
            "CONFIGURACIÓN: {'Función': <function sphere at 0x7f337293a710>, 'Nvar': 20, 'Npop': 150, 'Maxiter': 1000, 'Bounds': (-5.12, 5.12)}\n",
            "\tRepetición 1 \t= 9.33e-03\n",
            "\tRepetición 2 \t= 1.05e-01\n",
            "\tRepetición 3 \t= 1.73e-03\n",
            "\tRepetición 4 \t= 4.47e-02\n",
            "\tRepetición 5 \t= 1.28e-02\n",
            "\tRepetición 6 \t= 5.78e-03\n",
            "\tRepetición 7 \t= 4.95e-02\n",
            "\tRepetición 8 \t= 7.36e-02\n",
            "\tRepetición 9 \t= 2.53e-01\n",
            "\tRepetición 10 \t= 1.10e+00\n",
            "\tRepetición 11 \t= 7.15e-04\n",
            "\tRepetición 12 \t= 2.89e-01\n",
            "\tRepetición 13 \t= 9.72e-02\n",
            "\tRepetición 14 \t= 4.90e-03\n",
            "\tRepetición 15 \t= 3.84e-02\n",
            "\tRepetición 16 \t= 1.90e-01\n",
            "\tRepetición 17 \t= 7.79e-01\n",
            "\tRepetición 18 \t= 2.41e-02\n",
            "\tRepetición 19 \t= 2.09e-02\n",
            "\tRepetición 20 \t= 7.84e-02\n",
            "\tRepetición 21 \t= 4.42e-01\n",
            "\tRepetición 22 \t= 1.79e-06\n",
            "\tRepetición 23 \t= 3.14e-02\n",
            "\tRepetición 24 \t= 2.51e-01\n",
            "\tRepetición 25 \t= 2.81e-01\n",
            "\tRepetición 26 \t= 1.98e-05\n",
            "\tRepetición 27 \t= 4.15e-01\n",
            "\tRepetición 28 \t= 8.77e-03\n",
            "\tRepetición 29 \t= 7.77e-02\n",
            "\tRepetición 30 \t= 8.16e-03\n",
            "CONFIGURACIÓN: {'Función': <function sphere at 0x7f337293a710>, 'Nvar': 20, 'Npop': 150, 'Maxiter': 1000, 'Bounds': (-5.12, 5.12)}\n",
            "\tRESULTADO DE 30 REPETICIONES\n",
            "\t\tBest: \t1.79e-06 \t(1.7911245279699218e-06)\n",
            "\t\tMean: \t1.57e-01 \t(0.15650031030190734)\n",
            "\t\tMedi: \t4.71e-02 \t(0.04709118204000704)\n",
            "\t\tWorst: \t1.10e+00 \t(1.102710434264703)\n",
            "\t\tDevSt: \t2.51e-01 \t(0.2510059983322494)\n",
            "CONFIGURACIÓN: {'Función': <function sphere at 0x7f337293a710>, 'Nvar': 50, 'Npop': 200, 'Maxiter': 1500, 'Bounds': (-5.12, 5.12)}\n",
            "\tRepetición 1 \t= 1.76e-01\n",
            "\tRepetición 2 \t= 2.82e+00\n",
            "\tRepetición 3 \t= 1.17e+00\n",
            "\tRepetición 4 \t= 2.22e-01\n",
            "\tRepetición 5 \t= 2.06e+00\n",
            "\tRepetición 6 \t= 1.42e-01\n",
            "\tRepetición 7 \t= 4.28e-01\n",
            "\tRepetición 8 \t= 8.73e-01\n",
            "\tRepetición 9 \t= 1.22e+00\n",
            "\tRepetición 10 \t= 3.40e-01\n",
            "\tRepetición 11 \t= 4.40e-01\n",
            "\tRepetición 12 \t= 3.85e-01\n",
            "\tRepetición 13 \t= 6.36e-01\n",
            "\tRepetición 14 \t= 1.86e-02\n",
            "\tRepetición 15 \t= 5.00e-02\n",
            "\tRepetición 16 \t= 5.87e-01\n",
            "\tRepetición 17 \t= 1.95e-01\n",
            "\tRepetición 18 \t= 1.43e-02\n",
            "\tRepetición 19 \t= 7.30e-01\n",
            "\tRepetición 20 \t= 1.79e-01\n",
            "\tRepetición 21 \t= 2.80e-03\n",
            "\tRepetición 22 \t= 3.16e-02\n",
            "\tRepetición 23 \t= 3.66e-02\n",
            "\tRepetición 24 \t= 5.73e-02\n",
            "\tRepetición 25 \t= 2.91e-01\n",
            "\tRepetición 26 \t= 8.95e-01\n",
            "\tRepetición 27 \t= 1.29e-01\n",
            "\tRepetición 28 \t= 1.47e+00\n",
            "\tRepetición 29 \t= 2.83e-01\n",
            "\tRepetición 30 \t= 6.65e-01\n",
            "CONFIGURACIÓN: {'Función': <function sphere at 0x7f337293a710>, 'Nvar': 50, 'Npop': 200, 'Maxiter': 1500, 'Bounds': (-5.12, 5.12)}\n",
            "\tRESULTADO DE 30 REPETICIONES\n",
            "\t\tBest: \t2.80e-03 \t(0.002803646052942247)\n",
            "\t\tMean: \t5.52e-01 \t(0.5519933815287769)\n",
            "\t\tMedi: \t3.15e-01 \t(0.31516099565278954)\n",
            "\t\tWorst: \t2.82e+00 \t(2.8220116658309764)\n",
            "\t\tDevSt: \t6.54e-01 \t(0.6540764414129225)\n",
            "CONFIGURACIÓN: {'Función': <function sphere at 0x7f337293a710>, 'Nvar': 10, 'Npop': 200, 'Maxiter': 2000, 'Bounds': (-5.12, 5.12)}\n",
            "\tRepetición 1 \t= 2.20e-02\n",
            "\tRepetición 2 \t= 3.99e-03\n",
            "\tRepetición 3 \t= 4.34e-03\n",
            "\tRepetición 4 \t= 1.92e-03\n",
            "\tRepetición 5 \t= 3.20e-03\n",
            "\tRepetición 6 \t= 6.46e-03\n",
            "\tRepetición 7 \t= 1.38e-03\n",
            "\tRepetición 8 \t= 9.68e-06\n",
            "\tRepetición 9 \t= 2.87e-03\n",
            "\tRepetición 10 \t= 4.72e-02\n",
            "\tRepetición 11 \t= 4.13e-03\n",
            "\tRepetición 12 \t= 1.34e-01\n",
            "\tRepetición 13 \t= 9.89e-05\n",
            "\tRepetición 14 \t= 7.89e-02\n",
            "\tRepetición 15 \t= 1.00e-03\n",
            "\tRepetición 16 \t= 8.31e-07\n",
            "\tRepetición 17 \t= 2.24e-03\n",
            "\tRepetición 18 \t= 7.69e-02\n",
            "\tRepetición 19 \t= 4.15e-02\n",
            "\tRepetición 20 \t= 1.88e-02\n",
            "\tRepetición 21 \t= 5.60e-02\n",
            "\tRepetición 22 \t= 2.56e-02\n",
            "\tRepetición 23 \t= 9.38e-03\n",
            "\tRepetición 24 \t= 3.68e-03\n",
            "\tRepetición 25 \t= 1.61e-02\n",
            "\tRepetición 26 \t= 4.56e-02\n",
            "\tRepetición 27 \t= 1.54e-03\n",
            "\tRepetición 28 \t= 2.46e-02\n",
            "\tRepetición 29 \t= 3.23e-02\n",
            "\tRepetición 30 \t= 8.12e-03\n",
            "CONFIGURACIÓN: {'Función': <function sphere at 0x7f337293a710>, 'Nvar': 10, 'Npop': 200, 'Maxiter': 2000, 'Bounds': (-5.12, 5.12)}\n",
            "\tRESULTADO DE 30 REPETICIONES\n",
            "\t\tBest: \t8.31e-07 \t(8.30711105724728e-07)\n",
            "\t\tMean: \t2.25e-02 \t(0.022460769336142605)\n",
            "\t\tMedi: \t7.29e-03 \t(0.007289251636787807)\n",
            "\t\tWorst: \t1.34e-01 \t(0.13395604086562538)\n",
            "\t\tDevSt: \t3.10e-02 \t(0.030966295904123673)\n"
          ],
          "name": "stdout"
        }
      ]
    },
    {
      "cell_type": "markdown",
      "metadata": {
        "id": "jSUde6o2aC4_"
      },
      "source": [
        "**Resultado Final**"
      ]
    },
    {
      "cell_type": "code",
      "metadata": {
        "colab": {
          "base_uri": "https://localhost:8080/"
        },
        "id": "Wh6-7PpxaCVu",
        "outputId": "c1cbd355-56a0-4e56-8379-cd2ced99751f"
      },
      "source": [
        "for configuración,resultado in zip(configuraciones,resultados):\n",
        "  print(configuración)\n",
        "  for key, value in resultado.items(): print(f\"\\t{key}:{value}\")"
      ],
      "execution_count": 9,
      "outputs": [
        {
          "output_type": "stream",
          "text": [
            "{'Función': <function sphere at 0x7f337293a710>, 'Nvar': 10, 'Npop': 100, 'Maxiter': 500, 'Bounds': (-5.12, 5.12)}\n",
            "\tRepetitions:30\n",
            "\tBest:9.745759983432562e-07\n",
            "\tMean:0.1278752449521908\n",
            "\tMedian:0.05327368971444753\n",
            "\tWorst:0.7530887389024272\n",
            "\tDev:0.18465819433773561\n",
            "{'Función': <function sphere at 0x7f337293a710>, 'Nvar': 20, 'Npop': 150, 'Maxiter': 1000, 'Bounds': (-5.12, 5.12)}\n",
            "\tRepetitions:30\n",
            "\tBest:1.7911245279699218e-06\n",
            "\tMean:0.15650031030190734\n",
            "\tMedian:0.04709118204000704\n",
            "\tWorst:1.102710434264703\n",
            "\tDev:0.2510059983322494\n",
            "{'Función': <function sphere at 0x7f337293a710>, 'Nvar': 50, 'Npop': 200, 'Maxiter': 1500, 'Bounds': (-5.12, 5.12)}\n",
            "\tRepetitions:30\n",
            "\tBest:0.002803646052942247\n",
            "\tMean:0.5519933815287769\n",
            "\tMedian:0.31516099565278954\n",
            "\tWorst:2.8220116658309764\n",
            "\tDev:0.6540764414129225\n",
            "{'Función': <function sphere at 0x7f337293a710>, 'Nvar': 10, 'Npop': 200, 'Maxiter': 2000, 'Bounds': (-5.12, 5.12)}\n",
            "\tRepetitions:30\n",
            "\tBest:8.30711105724728e-07\n",
            "\tMean:0.022460769336142605\n",
            "\tMedian:0.007289251636787807\n",
            "\tWorst:0.13395604086562538\n",
            "\tDev:0.030966295904123673\n"
          ],
          "name": "stdout"
        }
      ]
    }
  ]
}